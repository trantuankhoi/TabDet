{
 "cells": [
  {
   "cell_type": "code",
   "execution_count": 1,
   "metadata": {},
   "outputs": [],
   "source": [
    "import os\n",
    "from PIL import Image"
   ]
  },
  {
   "cell_type": "code",
   "execution_count": 5,
   "metadata": {},
   "outputs": [],
   "source": [
    "IMG_DIR = \"./source/document_layout/\"\n",
    "\n",
    "for item in os.listdir(IMG_DIR):\n",
    "    img = Image.open(os.path.join(IMG_DIR, item))\n",
    "    rotated = img.rotate(0.5)\n",
    "    rotated.save(os.path.join(\"./rotate/\", item))\n"
   ]
  },
  {
   "cell_type": "code",
   "execution_count": null,
   "metadata": {},
   "outputs": [],
   "source": []
  }
 ],
 "metadata": {
  "kernelspec": {
   "display_name": "Python 3.10.4 ('KhoiTT')",
   "language": "python",
   "name": "python3"
  },
  "language_info": {
   "codemirror_mode": {
    "name": "ipython",
    "version": 3
   },
   "file_extension": ".py",
   "mimetype": "text/x-python",
   "name": "python",
   "nbconvert_exporter": "python",
   "pygments_lexer": "ipython3",
   "version": "3.10.4"
  },
  "orig_nbformat": 4,
  "vscode": {
   "interpreter": {
    "hash": "0da4fa9dc57a9b882056f923e83934bf1bc7a47dea93e2ea25b39b8967688251"
   }
  }
 },
 "nbformat": 4,
 "nbformat_minor": 2
}
